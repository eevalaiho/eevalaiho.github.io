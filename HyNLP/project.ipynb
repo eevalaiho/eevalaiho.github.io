{
 "cells": [
  {
   "cell_type": "code",
   "execution_count": 80,
   "metadata": {},
   "outputs": [
    {
     "data": {
      "text/html": [
       "<style>.container { width:100% !important; }</style>"
      ],
      "text/plain": [
       "<IPython.core.display.HTML object>"
      ]
     },
     "metadata": {},
     "output_type": "display_data"
    },
    {
     "data": {
      "text/html": [
       "<style>.output_result { max-width:100% !important; }</style>"
      ],
      "text/plain": [
       "<IPython.core.display.HTML object>"
      ]
     },
     "metadata": {},
     "output_type": "display_data"
    },
    {
     "data": {
      "text/html": [
       "<style>.prompt { display:none !important; }</style>"
      ],
      "text/plain": [
       "<IPython.core.display.HTML object>"
      ]
     },
     "metadata": {},
     "output_type": "display_data"
    }
   ],
   "source": [
    "from IPython.core.display import display, HTML\n",
    "display(HTML(\"<style>.container { width:100% !important; }</style>\"))\n",
    "display(HTML(\"<style>.output_result { max-width:100% !important; }</style>\"))\n",
    "display(HTML(\"<style>.prompt { display:none !important; }</style>\"))"
   ]
  },
  {
   "cell_type": "markdown",
   "metadata": {},
   "source": [
    "# Final project\n",
    "\n",
    "In this project I create a pipeline and try to extract knowledge from a city database (Open311 stndard).\n",
    "\n"
   ]
  },
  {
   "cell_type": "code",
   "execution_count": 15,
   "metadata": {},
   "outputs": [],
   "source": [
    "import random, pickle\n",
    "\n",
    "import pandas as pd\n",
    "\n",
    "import gensim\n",
    "import gensim.corpora as corpora\n",
    "from gensim.models import CoherenceModel\n",
    "\n",
    "import en_core_web_lg\n",
    "\n",
    "from pprint import pprint"
   ]
  },
  {
   "cell_type": "markdown",
   "metadata": {},
   "source": [
    "Define some utility functions."
   ]
  },
  {
   "cell_type": "code",
   "execution_count": 16,
   "metadata": {},
   "outputs": [],
   "source": [
    "# Flatten a list\n",
    "flatten = lambda l: [item for sublist in l for item in sublist]\n",
    "\n",
    "# argmax\n",
    "def argmax(l):\n",
    "    return max(range(len(l)), key=lambda j: l[j])"
   ]
  },
  {
   "cell_type": "markdown",
   "metadata": {},
   "source": [
    "Define variables."
   ]
  },
  {
   "cell_type": "code",
   "execution_count": 17,
   "metadata": {},
   "outputs": [],
   "source": [
    "RANDOM_STATE = 123\n",
    "random.seed(RANDOM_STATE)\n",
    "\n",
    "#POS_FILTER = 'All'\n",
    "POS_FILTER = 'NOUN'    # Topic modeling using just nouns gives more coherent topics https://www.aclweb.org/anthology/U15-1013.pdf\n",
    "POS_TAGS = ['NOUN', 'VERB', 'ADJ', 'ADV']\n",
    "CATEGORY = 'parks__playgrounds'\n"
   ]
  },
  {
   "cell_type": "markdown",
   "metadata": {},
   "source": [
    "Load the large English corpus."
   ]
  },
  {
   "cell_type": "code",
   "execution_count": 18,
   "metadata": {},
   "outputs": [],
   "source": [
    "# Load the corpus\n",
    "nlp = en_core_web_lg.load()"
   ]
  },
  {
   "cell_type": "markdown",
   "metadata": {},
   "source": [
    "## Data\n",
    "\n",
    "The data is from Bloominton city (Indiana) open access database. \n",
    "\n",
    "### Load the data"
   ]
  },
  {
   "cell_type": "code",
   "execution_count": 19,
   "metadata": {},
   "outputs": [
    {
     "data": {
      "text/html": [
       "<div>\n",
       "<style scoped>\n",
       "    .dataframe tbody tr th:only-of-type {\n",
       "        vertical-align: middle;\n",
       "    }\n",
       "\n",
       "    .dataframe tbody tr th {\n",
       "        vertical-align: top;\n",
       "    }\n",
       "\n",
       "    .dataframe thead th {\n",
       "        text-align: right;\n",
       "    }\n",
       "</style>\n",
       "<table border=\"1\" class=\"dataframe\">\n",
       "  <thead>\n",
       "    <tr style=\"text-align: right;\">\n",
       "      <th></th>\n",
       "      <th>ticket_id</th>\n",
       "      <th>category</th>\n",
       "      <th>description</th>\n",
       "    </tr>\n",
       "  </thead>\n",
       "  <tbody>\n",
       "    <tr>\n",
       "      <th>0</th>\n",
       "      <td>38106</td>\n",
       "      <td>Parks &amp; Playgrounds</td>\n",
       "      <td>wanted public info concerning skate park\\nrepl...</td>\n",
       "    </tr>\n",
       "    <tr>\n",
       "      <th>1</th>\n",
       "      <td>38333</td>\n",
       "      <td>Parks &amp; Playgrounds</td>\n",
       "      <td>wanting to sign up for line dance fitness clas...</td>\n",
       "    </tr>\n",
       "    <tr>\n",
       "      <th>2</th>\n",
       "      <td>58795</td>\n",
       "      <td>Parks &amp; Playgrounds</td>\n",
       "      <td>Limestone Rail Trail:  Ms. Tilford walked the ...</td>\n",
       "    </tr>\n",
       "    <tr>\n",
       "      <th>3</th>\n",
       "      <td>62084</td>\n",
       "      <td>Parks &amp; Playgrounds</td>\n",
       "      <td>As a parent of a developmentally disabled adul...</td>\n",
       "    </tr>\n",
       "    <tr>\n",
       "      <th>4</th>\n",
       "      <td>62119</td>\n",
       "      <td>Parks &amp; Playgrounds</td>\n",
       "      <td>BACC:  Disappointed w/location &amp; appearance of...</td>\n",
       "    </tr>\n",
       "    <tr>\n",
       "      <th>...</th>\n",
       "      <td>...</td>\n",
       "      <td>...</td>\n",
       "      <td>...</td>\n",
       "    </tr>\n",
       "    <tr>\n",
       "      <th>498</th>\n",
       "      <td>170238</td>\n",
       "      <td>Parks &amp; Playgrounds</td>\n",
       "      <td>Open air drug dealing, harassment and intimida...</td>\n",
       "    </tr>\n",
       "    <tr>\n",
       "      <th>499</th>\n",
       "      <td>170262</td>\n",
       "      <td>Parks &amp; Playgrounds</td>\n",
       "      <td>The fencing at Building Trades park o. Howe ha...</td>\n",
       "    </tr>\n",
       "    <tr>\n",
       "      <th>500</th>\n",
       "      <td>170286</td>\n",
       "      <td>Parks &amp; Playgrounds</td>\n",
       "      <td>Karst farm park - one of the baby swings has s...</td>\n",
       "    </tr>\n",
       "    <tr>\n",
       "      <th>501</th>\n",
       "      <td>170415</td>\n",
       "      <td>Parks &amp; Playgrounds</td>\n",
       "      <td>Dog poop station needs to be “serviced “</td>\n",
       "    </tr>\n",
       "    <tr>\n",
       "      <th>502</th>\n",
       "      <td>170499</td>\n",
       "      <td>Parks &amp; Playgrounds</td>\n",
       "      <td>I absolutely love RCA Park and often go with m...</td>\n",
       "    </tr>\n",
       "  </tbody>\n",
       "</table>\n",
       "<p>503 rows × 3 columns</p>\n",
       "</div>"
      ],
      "text/plain": [
       "     ticket_id             category  \\\n",
       "0        38106  Parks & Playgrounds   \n",
       "1        38333  Parks & Playgrounds   \n",
       "2        58795  Parks & Playgrounds   \n",
       "3        62084  Parks & Playgrounds   \n",
       "4        62119  Parks & Playgrounds   \n",
       "..         ...                  ...   \n",
       "498     170238  Parks & Playgrounds   \n",
       "499     170262  Parks & Playgrounds   \n",
       "500     170286  Parks & Playgrounds   \n",
       "501     170415  Parks & Playgrounds   \n",
       "502     170499  Parks & Playgrounds   \n",
       "\n",
       "                                           description  \n",
       "0    wanted public info concerning skate park\\nrepl...  \n",
       "1    wanting to sign up for line dance fitness clas...  \n",
       "2    Limestone Rail Trail:  Ms. Tilford walked the ...  \n",
       "3    As a parent of a developmentally disabled adul...  \n",
       "4    BACC:  Disappointed w/location & appearance of...  \n",
       "..                                                 ...  \n",
       "498  Open air drug dealing, harassment and intimida...  \n",
       "499  The fencing at Building Trades park o. Howe ha...  \n",
       "500  Karst farm park - one of the baby swings has s...  \n",
       "501           Dog poop station needs to be “serviced “  \n",
       "502  I absolutely love RCA Park and often go with m...  \n",
       "\n",
       "[503 rows x 3 columns]"
      ]
     },
     "execution_count": 19,
     "metadata": {},
     "output_type": "execute_result"
    }
   ],
   "source": [
    "sample_size = 1000  # Maximum number of rows to retrieve\n",
    "data_file = 'data/by_category/bloomington_{}.csv'.format(CATEGORY)\n",
    "row_count = sum(1 for line in open(data_file)) - 1  # number of records in file (excludes header)\n",
    "\n",
    "skip = []\n",
    "if sample_size < row_count:\n",
    "    skip = sorted(random.sample(range(1, row_count+1), row_count-sample_size))  # Exclude header from skip list\n",
    "data = pd.read_csv(data_file, skiprows=skip, usecols=[\"ticket_id\", \"description\", \"category\"],)\n",
    "\n",
    "data"
   ]
  },
  {
   "cell_type": "code",
   "execution_count": 20,
   "metadata": {},
   "outputs": [
    {
     "data": {
      "text/plain": [
       "[(38106,\n",
       "  'wanted public info concerning skate park\\nreply-referred to parks and rec.'),\n",
       " (38333,\n",
       "  \"wanting to sign up for line dance fitness class, but was asked for donation\\nreply- you don't have to give a donation to sign up for the class only pay the fee, attached corresponding webpage\"),\n",
       " (58795,\n",
       "  'Limestone Rail Trail:  Ms. Tilford walked the trail and reported barriers and no trespassing signs behind Dillman Treatment Plant.  She asked if that area is private property.  Farther south she said cows are grazing on the right-of-way.  She asked if the Rail Trail Conservancy might be able to help.  She is a member and trail supporter.')]"
      ]
     },
     "execution_count": 20,
     "metadata": {},
     "output_type": "execute_result"
    }
   ],
   "source": [
    "issues = data[data.description.notnull()]\n",
    "issues = list(zip(issues.ticket_id, issues.description))  # (ticket_id, description)\n",
    "\n",
    "issues[:3]"
   ]
  },
  {
   "cell_type": "markdown",
   "metadata": {},
   "source": [
    "### Preprocess the data\n",
    "\n",
    "1. Remove\n",
    "     * stop words\n",
    "     * named entities\n",
    "     * entities that aren't nouns, verbs or adjectives (or other defined below)\n",
    "1. Lemmatize"
   ]
  },
  {
   "cell_type": "code",
   "execution_count": 21,
   "metadata": {},
   "outputs": [
    {
     "name": "stdout",
     "output_type": "stream",
     "text": [
      "\n",
      "Loaded tokens from file \"models/lda_parks__playgrounds_1000_NOUN_tokens\"\n"
     ]
    }
   ],
   "source": [
    "\n",
    "model_file_prefix = 'models/lda_{}_{}'.format(CATEGORY, sample_size)\n",
    "token_file = '{}_{}_tokens'.format(model_file_prefix, POS_FILTER)\n",
    "try:\n",
    "    with open(token_file, 'rb') as f:\n",
    "        cleaned_issues = pickle.load(f)\n",
    "        print('\\nLoaded tokens from file \"{}\"'.format(token_file))\n",
    "except:\n",
    "    cleaned_issues = []\n",
    "    print('\\nExtracting tokens ...')\n",
    "    for i, issue in enumerate(issues):\n",
    "        doc = nlp(issue[1])\n",
    "        ents = [ent.text for ent in doc.ents]  # Named entities\n",
    "        tokenized_sents = []\n",
    "        for sent in doc.sents:\n",
    "            tokenized_sents.append([\n",
    "                (token.lemma_, token.pos_) for token in sent if (token.text not in ents) and (token.pos_ in POS_TAGS) and not token.is_stop\n",
    "            ])\n",
    "        d = dict([(tag, [token[0] for token in flatten(tokenized_sents) if token[1] == tag]) for tag in POS_TAGS])\n",
    "        d['All'] = [token[0] for token in flatten(tokenized_sents)]\n",
    "        cleaned_issues.append((issue[0], d))  # (ticket_id, token_dict)\n",
    "        if i % 500 == 0:\n",
    "            print(i, d['All'])\n",
    "\n",
    "    print('\\nSaving token file \"{}\"'.format(token_file))\n",
    "    with open(token_file, 'wb') as f:\n",
    "        pickle.dump(cleaned_issues, f, protocol=pickle.HIGHEST_PROTOCOL)\n"
   ]
  },
  {
   "cell_type": "code",
   "execution_count": 22,
   "metadata": {},
   "outputs": [
    {
     "data": {
      "text/plain": [
       "(38333,\n",
       " \"wanting to sign up for line dance fitness class, but was asked for donation\\nreply- you don't have to give a donation to sign up for the class only pay the fee, attached corresponding webpage\")"
      ]
     },
     "execution_count": 22,
     "metadata": {},
     "output_type": "execute_result"
    }
   ],
   "source": [
    "issues[1]"
   ]
  },
  {
   "cell_type": "code",
   "execution_count": 9,
   "metadata": {},
   "outputs": [
    {
     "data": {
      "text/plain": [
       "(38333,\n",
       " {'NOUN': ['line',\n",
       "   'dance',\n",
       "   'fitness',\n",
       "   'class',\n",
       "   'donation',\n",
       "   'reply-',\n",
       "   'donation',\n",
       "   'class',\n",
       "   'fee',\n",
       "   'webpage'],\n",
       "  'VERB': ['want', 'sign', 'ask', 'sign', 'pay', 'attach', 'correspond'],\n",
       "  'ADJ': [],\n",
       "  'ADV': [],\n",
       "  'All': ['want',\n",
       "   'sign',\n",
       "   'line',\n",
       "   'dance',\n",
       "   'fitness',\n",
       "   'class',\n",
       "   'ask',\n",
       "   'donation',\n",
       "   'reply-',\n",
       "   'donation',\n",
       "   'sign',\n",
       "   'class',\n",
       "   'pay',\n",
       "   'fee',\n",
       "   'attach',\n",
       "   'correspond',\n",
       "   'webpage']})"
      ]
     },
     "execution_count": 9,
     "metadata": {},
     "output_type": "execute_result"
    }
   ],
   "source": [
    "cleaned_issues[1]"
   ]
  },
  {
   "cell_type": "markdown",
   "metadata": {},
   "source": [
    "## Model\n",
    "\n",
    "Tun the issue descriptions into bags of words (BOW)."
   ]
  },
  {
   "cell_type": "code",
   "execution_count": 57,
   "metadata": {},
   "outputs": [],
   "source": [
    "dictionary = corpora.Dictionary([doc[1]['NOUN'] for doc in cleaned_issues])\n",
    "corpus = [dictionary.doc2bow(doc[1]['NOUN']) for doc in cleaned_issues]\n",
    "\n",
    "#corpus[:3]"
   ]
  },
  {
   "cell_type": "markdown",
   "metadata": {},
   "source": [
    "Train LDA (Latent Didrilecht Allocation) models for extracting topics."
   ]
  },
  {
   "cell_type": "code",
   "execution_count": 66,
   "metadata": {},
   "outputs": [
    {
     "name": "stdout",
     "output_type": "stream",
     "text": [
      "Loaded model from file \"models/lda_parks__playgrounds_1000_NOUN_t6\"\n",
      "Loaded model from file \"models/lda_parks__playgrounds_1000_NOUN_t7\"\n",
      "Loaded model from file \"models/lda_parks__playgrounds_1000_NOUN_t8\"\n",
      "Loaded model from file \"models/lda_parks__playgrounds_1000_NOUN_t9\"\n"
     ]
    }
   ],
   "source": [
    "lda_models = []\n",
    "for num in range(6, 10): # num = how many topics\n",
    "    model_file = '{}_{}_t{}'.format(model_file_prefix, POS_FILTER, num)\n",
    "    try:\n",
    "        model = gensim.models.ldamodel.LdaModel.load(model_file)\n",
    "        print('Loaded model from file \"{}\"'.format(model_file))\n",
    "    except:\n",
    "        print('Training model {}'.format(model_file))\n",
    "        model = gensim.models.ldamodel.LdaModel(corpus=corpus, id2word=dictionary, num_topics=num, iterations=50, random_state=RANDOM_STATE)\n",
    "        model.save(model_file)\n",
    "    lda_models.append(model)"
   ]
  },
  {
   "cell_type": "markdown",
   "metadata": {},
   "source": [
    "Measure topic coherence and find the best model."
   ]
  },
  {
   "cell_type": "code",
   "execution_count": 67,
   "metadata": {},
   "outputs": [
    {
     "name": "stdout",
     "output_type": "stream",
     "text": [
      "[(0,\n",
      "  '0.074*\"park\" + 0.026*\"court\" + 0.017*\"lot\" + 0.012*\"city\" + 0.012*\"shelter\" '\n",
      "  '+ 0.011*\"year\" + 0.011*\"tennis\" + 0.010*\"parking\" + 0.010*\"people\" + '\n",
      "  '0.010*\"playground\"'),\n",
      " (1,\n",
      "  '0.024*\"playground\" + 0.022*\"park\" + 0.019*\"area\" + 0.016*\"kid\" + '\n",
      "  '0.016*\"trail\" + 0.015*\"slide\" + 0.015*\"dog\" + 0.013*\"thank\" + 0.011*\"foot\" '\n",
      "  '+ 0.010*\"water\"'),\n",
      " (2,\n",
      "  '0.085*\"dog\" + 0.042*\"park\" + 0.015*\"swing\" + 0.015*\"area\" + 0.014*\"owner\" + '\n",
      "  '0.014*\"light\" + 0.013*\"child\" + 0.011*\"playground\" + 0.009*\"trail\" + '\n",
      "  '0.009*\"people\"'),\n",
      " (3,\n",
      "  '0.060*\"park\" + 0.024*\"water\" + 0.023*\"tree\" + 0.015*\"playground\" + '\n",
      "  '0.015*\"fountain\" + 0.013*\"dog\" + 0.013*\"area\" + 0.011*\"grass\" + '\n",
      "  '0.010*\"court\" + 0.010*\"thank\"'),\n",
      " (4,\n",
      "  '0.044*\"park\" + 0.024*\"area\" + 0.020*\"trail\" + 0.020*\"tree\" + 0.018*\"water\" '\n",
      "  '+ 0.013*\"thank\" + 0.012*\"dog\" + 0.011*\"year\" + 0.010*\"fountain\" + '\n",
      "  '0.008*\"time\"'),\n",
      " (5,\n",
      "  '0.033*\"park\" + 0.016*\"court\" + 0.015*\"tree\" + 0.014*\"city\" + 0.013*\"thank\" '\n",
      "  '+ 0.010*\"tennis\" + 0.010*\"field\" + 0.010*\"time\" + 0.009*\"kid\" + '\n",
      "  '0.008*\"ground\"')]\n"
     ]
    }
   ],
   "source": [
    "model_coherences = []\n",
    "for i, model in enumerate(lda_models):\n",
    "    cm = CoherenceModel(model=model, dictionary=dictionary, corpus=corpus, coherence='u_mass')\n",
    "    model_coherences.append(cm.get_coherence())\n",
    "    # print(\"Num topics: {}, Model coherence: {}\\n\".format(model.num_topics, cm.get_coherence()))\n",
    "\n",
    "top_model = lda_models[argmax(model_coherences)]\n",
    "pprint(top_model.print_topics(num_words=10))"
   ]
  },
  {
   "cell_type": "markdown",
   "metadata": {},
   "source": [
    "Find the most representative issues for each topic"
   ]
  },
  {
   "cell_type": "code",
   "execution_count": 68,
   "metadata": {},
   "outputs": [
    {
     "name": "stdout",
     "output_type": "stream",
     "text": [
      "\n",
      "Topic id: 0,\n",
      "\n",
      "Keywords: 'park', 'court', 'lot'\n",
      "\n",
      "Issues:\n",
      "* Hello,  I'm a frequent user of Bryan Park, and I'm concerned about the city truck that is being driv ...\n",
      "* Homeless man and friends congregating in the building and trades park - upper shelter house. Drinkin ...\n",
      "* I love Bryan Park and have walked there nearly every morning for many years.  In the past year or so ...\n",
      "\n",
      "Topic id: 1,\n",
      "\n",
      "Keywords: 'playground', 'park', 'area', 'kid', 'trail', 'slide', 'dog', 'thank'\n",
      "\n",
      "Issues:\n",
      "* Hello,  There is currently a safety issue at Sherwood Oaks Park.  Below the big blue slide on the pl ...\n",
      "* The small karst feature (sinkhole) on the northeast side of Weimer Lake (in Wapehani Park) has great ...\n",
      "* On August 21st, I reported a homeless camp at Wapehani Park. It was examined and reported back to me ...\n",
      "\n",
      "Topic id: 2,\n",
      "\n",
      "Keywords: 'dog', 'park', 'swing', 'area', 'owner', 'light', 'child'\n",
      "\n",
      "Issues:\n",
      "* Hello,   I've recently stopped going to the Ferguson Dog Park on the Northside of town because it is ...\n",
      "* Hello. I am a resident near Olcott Park and have noticed what look like lighting fixtures being inst ...\n",
      "* There is a huge grassy plot of land next to Sherwood Oaks Park that has gone seemingly unused for ye ...\n",
      "\n",
      "Topic id: 3,\n",
      "\n",
      "Keywords: 'park', 'water', 'tree', 'playground', 'fountain', 'dog', 'area'\n",
      "\n",
      "Issues:\n",
      "* The wood mulch surface of the playground structure at Park Ridge park needs replenished.  As a regul ...\n",
      "* First - thank you for how responsive the department has been to our observations about Park Ridge Pa ...\n",
      "* Hi,  First, thank you for removing the leaves from Park Ridge Park, the excellent park in the Park R ...\n",
      "\n",
      "Topic id: 4,\n",
      "\n",
      "Keywords: 'park', 'area', 'trail', 'tree', 'water', 'thank'\n",
      "\n",
      "Issues:\n",
      "* I set up a slackline (a sort of portable tightrope) on the basketball goals at upper cascades park y ...\n",
      "* To whom it may concern:     I was dismayed to read in this morning's hotline that roundup is used in ...\n",
      "* Hi,  I contacted the city a few weeks ago regarding the status of Park Ridge Park and the materials  ...\n",
      "\n",
      "Topic id: 5,\n",
      "\n",
      "Keywords: 'park', 'court', 'tree', 'city', 'thank'\n",
      "\n",
      "Issues:\n",
      "* Hi folks,  I'm writing to you all about the scoretower at Winslow Sports Park during youth baseball  ...\n",
      "* Hi Park & Recs team! I wanted to file a complaint regarding trash from the softball teams that play  ...\n",
      "* My family and I went to the concert in the park last night (8/11/19) at Bryan Park. My two year old  ...\n"
     ]
    }
   ],
   "source": [
    "# Find the dominant (=most likely) topic for each issues\n",
    "lda_corpus = [(cleaned_issues[i][0], max(prob, key=lambda y: y[1])) for i, prob in enumerate(top_model[corpus])]\n",
    "\n",
    "# Find the most representative issues for each topic\n",
    "thresh = 0.0125                # Only show words above certain threshold\n",
    "M = 3                          # How many do\n",
    "topic_top_docs = []\n",
    "for i in range(0, top_model.num_topics):\n",
    "    docs = [y[0] for y in sorted([x for x in lda_corpus if x[1][0] == i], key=lambda x: x[1], reverse=True)]\n",
    "    topic_words = [x[0] for x in top_model.show_topic(i, topn=100) if x[1] > thresh]\n",
    "    topic_top_docs.append((i, topic_words, docs[:M]))\n",
    "\n",
    "\n",
    "for (topic_id, keywords, issue_ids) in topic_top_docs:\n",
    "    print('\\nTopic id: {},'.format(topic_id))\n",
    "    print(\"\\nKeywords: '{}'\".format(\"', '\".join(keywords)))\n",
    "    print('\\nIssues:')\n",
    "    issues = [x[:100].replace(\"\\n\", \" \") + \" ...\" for x in data[data.ticket_id.isin(issue_ids)].description.values]\n",
    "    print(\"*\", \"\\n* \".join(issues))\n"
   ]
  },
  {
   "cell_type": "markdown",
   "metadata": {},
   "source": [
    "## Visualization\n",
    "\n",
    "### Word Cloud"
   ]
  },
  {
   "cell_type": "code",
   "execution_count": 69,
   "metadata": {},
   "outputs": [
    {
     "data": {
      "image/png": "[encoded data removed]",
      "text/plain": [
       "<Figure size 1080x504 with 6 Axes>"
      ]
     },
     "metadata": {
      "needs_background": "light"
     },
     "output_type": "display_data"
    }
   ],
   "source": [
    "from matplotlib import pyplot as plt\n",
    "from wordcloud import WordCloud, STOPWORDS\n",
    "import matplotlib.colors as mcolors\n",
    "\n",
    "cols = [color for name, color in mcolors.TABLEAU_COLORS.items()]  # more colors: 'mcolors.XKCD_COLORS'\n",
    "\n",
    "stop_words = set(['park', 'area'])\n",
    "cloud = WordCloud(background_color='white', width=2500, height=1800, max_words=10, \n",
    "                  colormap='tab10', color_func=lambda *args, **kwargs: cols[i], prefer_horizontal=1.0)\n",
    "\n",
    "topics = top_model.show_topics(formatted=False)\n",
    "fig, axes = plt.subplots(2,3, figsize=(15,7), sharex=True, sharey=True)\n",
    "for i, ax in enumerate(axes.flatten()):\n",
    "    fig.add_subplot(ax)\n",
    "    topic_words = dict([x for x in topics[i][1] if not x[0] in stop_words])  # Remove stop words\n",
    "    cloud.generate_from_frequencies(topic_words, max_font_size=300)\n",
    "    plt.gca().imshow(cloud)\n",
    "    plt.gca().set_title('Topic ' + str(i), fontdict=dict(size=16))\n",
    "    plt.gca().axis('off')\n",
    "    \n",
    "plt.subplots_adjust(wspace=0, hspace=0)\n",
    "plt.axis('off')\n",
    "plt.margins(x=0, y=0)\n",
    "plt.tight_layout()\n",
    "plt.show()"
   ]
  },
  {
   "cell_type": "markdown",
   "metadata": {},
   "source": [
    "### pyLDavis"
   ]
  },
  {
   "cell_type": "code",
   "execution_count": 86,
   "metadata": {},
   "outputs": [],
   "source": [
    "import warnings\n",
    "warnings.simplefilter(action='ignore', category=FutureWarning)\n",
    "\n",
    "import pyLDAvis.gensim\n",
    "pyLDAvis.enable_notebook()\n",
    "#vis = pyLDAvis.gensim.prepare(top_model, corpus, dictionary=top_model.id2word)\n",
    "#pylda_file = '{}_pylda.html'.format(model_file_prefix)\n",
    "#pyLDAvis.save_html(vis, pylda_file)\n",
    "\n",
    "#print(pylda_file)\n",
    "#vis"
   ]
  },
  {
   "cell_type": "markdown",
   "metadata": {},
   "source": [
    "[View pyLDAvis visualization](./lda_parks__playgrounds_1000_pylda.html)"
   ]
  },
  {
   "cell_type": "code",
   "execution_count": 91,
   "metadata": {},
   "outputs": [
    {
     "data": {
      "text/html": [
       "\n",
       "        <iframe\n",
       "            width=\"1350\"\n",
       "            height=\"860\"\n",
       "            src=\"./lda_parks__playgrounds_1000_pylda.html\"\n",
       "            frameborder=\"0\"\n",
       "            allowfullscreen\n",
       "        ></iframe>\n",
       "        "
      ],
      "text/plain": [
       "<IPython.lib.display.IFrame at 0x7f92a3bfd250>"
      ]
     },
     "execution_count": 91,
     "metadata": {},
     "output_type": "execute_result"
    }
   ],
   "source": [
    "from IPython.display import IFrame\n",
    "\n",
    "IFrame(src='./lda_parks__playgrounds_1000_pylda.html', width=1350, height=860)"
   ]
  },
  {
   "cell_type": "markdown",
   "metadata": {},
   "source": []
  },
  {
   "cell_type": "code",
   "execution_count": 77,
   "metadata": {},
   "outputs": [
    {
     "data": {
      "text/html": [
       "<style>.container { width:100% !important; }</style>"
      ],
      "text/plain": [
       "<IPython.core.display.HTML object>"
      ]
     },
     "metadata": {},
     "output_type": "display_data"
    },
    {
     "data": {
      "text/html": [
       "<style>.output_result { max-width:100% !important; }</style>"
      ],
      "text/plain": [
       "<IPython.core.display.HTML object>"
      ]
     },
     "metadata": {},
     "output_type": "display_data"
    },
    {
     "data": {
      "text/html": [
       "<style>.prompt { display:none !important; }</style>"
      ],
      "text/plain": [
       "<IPython.core.display.HTML object>"
      ]
     },
     "metadata": {},
     "output_type": "display_data"
    }
   ],
   "source": []
  }
 ],
 "metadata": {
  "kernelspec": {
   "display_name": "nlp37",
   "language": "python",
   "name": "nlp37"
  },
  "language_info": {
   "codemirror_mode": {
    "name": "ipython",
    "version": 3
   },
   "file_extension": ".py",
   "mimetype": "text/x-python",
   "name": "python",
   "nbconvert_exporter": "python",
   "pygments_lexer": "ipython3",
   "version": "3.7.6"
  }
 },
 "nbformat": 4,
 "nbformat_minor": 2
}
